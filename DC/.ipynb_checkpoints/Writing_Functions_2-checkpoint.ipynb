{
 "cells": [
  {
   "cell_type": "markdown",
   "metadata": {},
   "source": [
    "# Writing Functions 2"
   ]
  },
  {
   "cell_type": "markdown",
   "metadata": {},
   "source": [
    "# Scope in functions\n",
    "* Not all objects are accessible everywhere in a script\n",
    "* Scope - part of the program where an object or name may be accessible\n",
    "    * Global scope - defined in the main body of a script\n",
    "    * Local scope - defined inside a function\n",
    "    * Built-in scope - names in the pre-defined built-ins module"
   ]
  },
  {
   "cell_type": "code",
   "execution_count": 2,
   "metadata": {},
   "outputs": [
    {
     "name": "stdout",
     "output_type": "stream",
     "text": [
      "9\n"
     ]
    },
    {
     "ename": "NameError",
     "evalue": "name 'new_val' is not defined",
     "output_type": "error",
     "traceback": [
      "\u001b[0;31m---------------------------------------------------------------------------\u001b[0m",
      "\u001b[0;31mNameError\u001b[0m                                 Traceback (most recent call last)",
      "\u001b[0;32m<ipython-input-2-f304ad9010c9>\u001b[0m in \u001b[0;36m<module>\u001b[0;34m\u001b[0m\n\u001b[1;32m      6\u001b[0m \u001b[0;34m\u001b[0m\u001b[0m\n\u001b[1;32m      7\u001b[0m \u001b[0mprint\u001b[0m\u001b[0;34m(\u001b[0m\u001b[0msquare\u001b[0m\u001b[0;34m(\u001b[0m\u001b[0;36m3\u001b[0m\u001b[0;34m)\u001b[0m\u001b[0;34m)\u001b[0m\u001b[0;34m\u001b[0m\u001b[0m\n\u001b[0;32m----> 8\u001b[0;31m \u001b[0mprint\u001b[0m\u001b[0;34m(\u001b[0m\u001b[0mnew_val\u001b[0m\u001b[0;34m)\u001b[0m \u001b[0;31m# Error\u001b[0m\u001b[0;34m\u001b[0m\u001b[0m\n\u001b[0m",
      "\u001b[0;31mNameError\u001b[0m: name 'new_val' is not defined"
     ]
    }
   ],
   "source": [
    "# Global vs. local scope (1)\n",
    "\n",
    "def square(value):\n",
    "    new_val = value ** 2\n",
    "    return new_val\n",
    "\n",
    "print(square(3))\n",
    "print(new_val) # Error, this is a local variable and can't be called globally"
   ]
  },
  {
   "cell_type": "code",
   "execution_count": 3,
   "metadata": {},
   "outputs": [
    {
     "name": "stdout",
     "output_type": "stream",
     "text": [
      "9\n",
      "10\n"
     ]
    }
   ],
   "source": [
    "# Global vs. local scope (2)\n",
    "new_val = 10\n",
    "\n",
    "def square(value):\n",
    "    new_val = value ** 2    # this is a local variable\n",
    "    return new_val\n",
    "print(square(3))\n",
    "print(new_val)"
   ]
  },
  {
   "cell_type": "code",
   "execution_count": 4,
   "metadata": {},
   "outputs": [
    {
     "name": "stdout",
     "output_type": "stream",
     "text": [
      "100\n",
      "400\n"
     ]
    }
   ],
   "source": [
    "# Global vs. local scope (3)\n",
    "new_val = 10\n",
    "\n",
    "def square(value):\n",
    "    new_value2 = new_val ** 2    # uses the global since no local was defined\n",
    "    return new_value2\n",
    "print(square(3))\n",
    "\n",
    "new_val = 20\n",
    "\n",
    "print(square(3))"
   ]
  },
  {
   "cell_type": "code",
   "execution_count": 5,
   "metadata": {},
   "outputs": [
    {
     "name": "stdout",
     "output_type": "stream",
     "text": [
      "100\n",
      "100\n"
     ]
    }
   ],
   "source": [
    "# Global vs. local scope (4)\n",
    "new_val = 10\n",
    "\n",
    "def square(value):\n",
    "    global new_val    # forces use of global variable\n",
    "    new_val = new_val ** 2\n",
    "    return new_val    # updates the global variable\n",
    "\n",
    "print(square(3))\n",
    "print(new_val)"
   ]
  },
  {
   "cell_type": "code",
   "execution_count": 8,
   "metadata": {},
   "outputs": [
    {
     "name": "stdout",
     "output_type": "stream",
     "text": [
      "What are the values printed out when you call func1() and func2()?\n",
      "What is the value of num in the global scope after calling func1() and func2()?\n"
     ]
    }
   ],
   "source": [
    "# Exercise\n",
    "\n",
    "num = 5\n",
    "\n",
    "def func1():\n",
    "    num = 3\n",
    "    print(num)\n",
    "\n",
    "def func2():\n",
    "    global num\n",
    "    double_num = num * 2\n",
    "    num = 6\n",
    "    print(double_num)\n",
    "\n",
    "print(\"What are the values printed out when you call func1() and func2()?\")\n",
    "print(\"What is the value of num in the global scope after calling func1() and func2()?\")\n",
    "\n",
    "#func1()\n",
    "#func2()\n",
    "#print(num)"
   ]
  },
  {
   "cell_type": "code",
   "execution_count": 9,
   "metadata": {},
   "outputs": [
    {
     "name": "stdout",
     "output_type": "stream",
     "text": [
      "teen titans\n",
      "justice league\n"
     ]
    }
   ],
   "source": [
    "# Exercise\n",
    "# Create a string: team\n",
    "team = \"teen titans\"\n",
    "\n",
    "# Define change_team()\n",
    "def change_team():\n",
    "    \"\"\"Change the value of the global variable team.\"\"\"\n",
    "\n",
    "    # Use team in global scope\n",
    "    global team    \n",
    "\n",
    "    # Change the value of team in global: team\n",
    "    team = \"justice league\"\n",
    "# Print team\n",
    "print(team)\n",
    "\n",
    "# Call change_team()\n",
    "change_team()\n",
    "\n",
    "# Print team\n",
    "print(team)"
   ]
  },
  {
   "cell_type": "code",
   "execution_count": null,
   "metadata": {},
   "outputs": [],
   "source": []
  }
 ],
 "metadata": {
  "kernelspec": {
   "display_name": "Python 3",
   "language": "python",
   "name": "python3"
  },
  "language_info": {
   "codemirror_mode": {
    "name": "ipython",
    "version": 3
   },
   "file_extension": ".py",
   "mimetype": "text/x-python",
   "name": "python",
   "nbconvert_exporter": "python",
   "pygments_lexer": "ipython3",
   "version": "3.5.3"
  }
 },
 "nbformat": 4,
 "nbformat_minor": 2
}
