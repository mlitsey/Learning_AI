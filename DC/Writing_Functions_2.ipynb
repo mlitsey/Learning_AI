{
 "cells": [
  {
   "cell_type": "markdown",
   "metadata": {},
   "source": [
    "# Writing Functions 2"
   ]
  },
  {
   "cell_type": "markdown",
   "metadata": {},
   "source": [
    "# Scope in functions\n",
    "* Not all objects are accessible everywhere in a script\n",
    "* Scope - part of the program where an object or name may be accessible\n",
    "    * Global scope - defined in the main body of a script\n",
    "    * Local scope - defined inside a function\n",
    "    * Built-in scope - names in the pre-defined built-ins module"
   ]
  },
  {
   "cell_type": "code",
   "execution_count": 2,
   "metadata": {},
   "outputs": [
    {
     "name": "stdout",
     "output_type": "stream",
     "text": [
      "9\n"
     ]
    },
    {
     "ename": "NameError",
     "evalue": "name 'new_val' is not defined",
     "output_type": "error",
     "traceback": [
      "\u001b[0;31m---------------------------------------------------------------------------\u001b[0m",
      "\u001b[0;31mNameError\u001b[0m                                 Traceback (most recent call last)",
      "\u001b[0;32m<ipython-input-2-f304ad9010c9>\u001b[0m in \u001b[0;36m<module>\u001b[0;34m\u001b[0m\n\u001b[1;32m      6\u001b[0m \u001b[0;34m\u001b[0m\u001b[0m\n\u001b[1;32m      7\u001b[0m \u001b[0mprint\u001b[0m\u001b[0;34m(\u001b[0m\u001b[0msquare\u001b[0m\u001b[0;34m(\u001b[0m\u001b[0;36m3\u001b[0m\u001b[0;34m)\u001b[0m\u001b[0;34m)\u001b[0m\u001b[0;34m\u001b[0m\u001b[0m\n\u001b[0;32m----> 8\u001b[0;31m \u001b[0mprint\u001b[0m\u001b[0;34m(\u001b[0m\u001b[0mnew_val\u001b[0m\u001b[0;34m)\u001b[0m \u001b[0;31m# Error\u001b[0m\u001b[0;34m\u001b[0m\u001b[0m\n\u001b[0m",
      "\u001b[0;31mNameError\u001b[0m: name 'new_val' is not defined"
     ]
    }
   ],
   "source": [
    "# Global vs. local scope (1)\n",
    "\n",
    "def square(value):\n",
    "    new_val = value ** 2\n",
    "    return new_val\n",
    "\n",
    "print(square(3))\n",
    "print(new_val) # Error, this is a local variable and can't be called globally"
   ]
  },
  {
   "cell_type": "code",
   "execution_count": 3,
   "metadata": {},
   "outputs": [
    {
     "name": "stdout",
     "output_type": "stream",
     "text": [
      "9\n",
      "10\n"
     ]
    }
   ],
   "source": [
    "# Global vs. local scope (2)\n",
    "new_val = 10\n",
    "\n",
    "def square(value):\n",
    "    new_val = value ** 2    # this is a local variable\n",
    "    return new_val\n",
    "print(square(3))\n",
    "print(new_val)"
   ]
  },
  {
   "cell_type": "code",
   "execution_count": 4,
   "metadata": {},
   "outputs": [
    {
     "name": "stdout",
     "output_type": "stream",
     "text": [
      "100\n",
      "400\n"
     ]
    }
   ],
   "source": [
    "# Global vs. local scope (3)\n",
    "new_val = 10\n",
    "\n",
    "def square(value):\n",
    "    new_value2 = new_val ** 2    # uses the global since no local was defined\n",
    "    return new_value2\n",
    "print(square(3))\n",
    "\n",
    "new_val = 20\n",
    "\n",
    "print(square(3))"
   ]
  },
  {
   "cell_type": "code",
   "execution_count": 5,
   "metadata": {},
   "outputs": [
    {
     "name": "stdout",
     "output_type": "stream",
     "text": [
      "100\n",
      "100\n"
     ]
    }
   ],
   "source": [
    "# Global vs. local scope (4)\n",
    "new_val = 10\n",
    "\n",
    "def square(value):\n",
    "    global new_val    # forces use of global variable\n",
    "    new_val = new_val ** 2\n",
    "    return new_val    # updates the global variable\n",
    "\n",
    "print(square(3))\n",
    "print(new_val)"
   ]
  },
  {
   "cell_type": "code",
   "execution_count": 8,
   "metadata": {},
   "outputs": [
    {
     "name": "stdout",
     "output_type": "stream",
     "text": [
      "What are the values printed out when you call func1() and func2()?\n",
      "What is the value of num in the global scope after calling func1() and func2()?\n"
     ]
    }
   ],
   "source": [
    "# Exercise\n",
    "\n",
    "num = 5\n",
    "\n",
    "def func1():\n",
    "    num = 3\n",
    "    print(num)\n",
    "\n",
    "def func2():\n",
    "    global num\n",
    "    double_num = num * 2\n",
    "    num = 6\n",
    "    print(double_num)\n",
    "\n",
    "print(\"What are the values printed out when you call func1() and func2()?\")\n",
    "print(\"What is the value of num in the global scope after calling func1() and func2()?\")\n",
    "\n",
    "#func1()\n",
    "#func2()\n",
    "#print(num)"
   ]
  },
  {
   "cell_type": "code",
   "execution_count": 9,
   "metadata": {},
   "outputs": [
    {
     "name": "stdout",
     "output_type": "stream",
     "text": [
      "teen titans\n",
      "justice league\n"
     ]
    }
   ],
   "source": [
    "# Exercise\n",
    "# Create a string: team\n",
    "team = \"teen titans\"\n",
    "\n",
    "# Define change_team()\n",
    "def change_team():\n",
    "    \"\"\"Change the value of the global variable team.\"\"\"\n",
    "\n",
    "    # Use team in global scope\n",
    "    global team    \n",
    "\n",
    "    # Change the value of team in global: team\n",
    "    team = \"justice league\"\n",
    "# Print team\n",
    "print(team)\n",
    "\n",
    "# Call change_team()\n",
    "change_team()\n",
    "\n",
    "# Print team\n",
    "print(team)"
   ]
  },
  {
   "cell_type": "code",
   "execution_count": 13,
   "metadata": {},
   "outputs": [
    {
     "name": "stdout",
     "output_type": "stream",
     "text": [
      "Which of the following names is NOT in the module builtins?\n",
      "'sum''range''array''tuple'\n"
     ]
    }
   ],
   "source": [
    "# Exercise\n",
    "print(\"Which of the following names is NOT in the module builtins?\")\n",
    "print(\"'sum''range''array''tuple'\")\n",
    "import builtins\n",
    "#dir(builtins)\n"
   ]
  },
  {
   "cell_type": "markdown",
   "metadata": {},
   "source": [
    "# Nested Functions"
   ]
  },
  {
   "cell_type": "code",
   "execution_count": 14,
   "metadata": {},
   "outputs": [
    {
     "ename": "SyntaxError",
     "evalue": "invalid syntax (<ipython-input-14-ea745608e221>, line 4)",
     "output_type": "error",
     "traceback": [
      "\u001b[0;36m  File \u001b[0;32m\"<ipython-input-14-ea745608e221>\"\u001b[0;36m, line \u001b[0;32m4\u001b[0m\n\u001b[0;31m    def outer(...):\u001b[0m\n\u001b[0m                ^\u001b[0m\n\u001b[0;31mSyntaxError\u001b[0m\u001b[0;31m:\u001b[0m invalid syntax\n"
     ]
    }
   ],
   "source": [
    "# Nested functions (1)\n",
    "# nested.py\n",
    "\n",
    "def outer(...):\n",
    "    \"\"\" ... \"\"\"\n",
    "    x = ...\n",
    "\n",
    "    def inner(...):\n",
    "        \"\"\" ... \"\"\"\n",
    "        y = x ** 2\n",
    "\n",
    "    return ..."
   ]
  },
  {
   "cell_type": "code",
   "execution_count": 15,
   "metadata": {},
   "outputs": [],
   "source": [
    "# Nested functions (2)\n",
    "# mod2plus5.py\n",
    "\n",
    "def mod2plus5(x1, x2, x3):\n",
    "    \"\"\" Returns the remainder plus 5 of three values. \"\"\"\n",
    "    new_x1 = x1 % 2 + 5\n",
    "    new_x2 = x1 % 2 + 5\n",
    "    new_x3 = x1 % 2 + 5\n",
    "\n",
    "    return(new_x1, new_x2, new_x3)\n",
    "    "
   ]
  },
  {
   "cell_type": "code",
   "execution_count": 17,
   "metadata": {},
   "outputs": [
    {
     "name": "stdout",
     "output_type": "stream",
     "text": [
      "(6, 5, 6)\n"
     ]
    }
   ],
   "source": [
    "# Nested functions (3)\n",
    "# mod2plus5_01.py\n",
    "\n",
    "def mod2plus5(x1, x2, x3):\n",
    "    \"\"\" Returns the remainder plus 5 of three values. \"\"\"\n",
    "    def inner(x):\n",
    "        \"\"\"Returns the remainder plus 5 of a value. \"\"\"\n",
    "        return x % 2 + 5   \n",
    "    \n",
    "    return(inner(x1), inner(x2), inner(x3))\n",
    "print(mod2plus5(1,2,3))"
   ]
  },
  {
   "cell_type": "code",
   "execution_count": 19,
   "metadata": {},
   "outputs": [
    {
     "name": "stdout",
     "output_type": "stream",
     "text": [
      "4 64\n"
     ]
    },
    {
     "data": {
      "text/plain": [
       "'\\nWe have a closure in Python when a nested function references a value in its enclosing scope.\\n\\nThe criteria that must be met to create closure in Python are summarized in the following points.\\n\\n* We must have a nested function (function inside a function).\\n* The nested function must refer to a value defined in the enclosing function.\\n* The enclosing function must return the nested function.\\n'"
      ]
     },
     "execution_count": 19,
     "metadata": {},
     "output_type": "execute_result"
    }
   ],
   "source": [
    "# Returning functions\n",
    "# raise.py\n",
    "\n",
    "def raise_val(n):\n",
    "    \"\"\"Return the inner function.\"\"\"\n",
    "    def inner(x):\n",
    "        \"\"\"Raise x to the power of n.\"\"\"\n",
    "        raised = x ** n\n",
    "        return raised\n",
    "\n",
    "    return inner\n",
    "\n",
    "square = raise_val(2) # closure - definition?\n",
    "cube = raise_val(3)\n",
    "print(square(2), cube(4))\n",
    "\n",
    "\"\"\"\n",
    "We have a closure in Python when a nested function references a value in its enclosing scope.\n",
    "\n",
    "The criteria that must be met to create closure in Python are summarized in the following points.\n",
    "\n",
    "* We must have a nested function (function inside a function).\n",
    "* The nested function must refer to a value defined in the enclosing function.\n",
    "* The enclosing function must return the nested function.\n",
    "\"\"\""
   ]
  },
  {
   "cell_type": "code",
   "execution_count": 20,
   "metadata": {},
   "outputs": [
    {
     "name": "stdout",
     "output_type": "stream",
     "text": [
      "2\n",
      "2\n"
     ]
    }
   ],
   "source": [
    "# Using nonlocal\n",
    "# nonlocal.py\n",
    "def outer():\n",
    "    \"\"\" Prints the value of n.\"\"\"\n",
    "    n = 1\n",
    "\n",
    "    def inner():\n",
    "        nonlocal n\n",
    "        n = 2\n",
    "        print(n)\n",
    "\n",
    "    inner()\n",
    "    print(n)\n",
    "\n",
    "outer()"
   ]
  },
  {
   "cell_type": "markdown",
   "metadata": {},
   "source": [
    "### Scopes searched\n",
    "* Local Scope\n",
    "* Enclosing functions\n",
    "* Global\n",
    "* Built-in\n",
    "* LEGB rule"
   ]
  },
  {
   "cell_type": "code",
   "execution_count": null,
   "metadata": {},
   "outputs": [],
   "source": []
  }
 ],
 "metadata": {
  "kernelspec": {
   "display_name": "Python 3",
   "language": "python",
   "name": "python3"
  },
  "language_info": {
   "codemirror_mode": {
    "name": "ipython",
    "version": 3
   },
   "file_extension": ".py",
   "mimetype": "text/x-python",
   "name": "python",
   "nbconvert_exporter": "python",
   "pygments_lexer": "ipython3",
   "version": "3.5.3"
  }
 },
 "nbformat": 4,
 "nbformat_minor": 2
}
