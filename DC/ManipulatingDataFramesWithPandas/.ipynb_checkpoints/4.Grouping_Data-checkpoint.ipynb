{
 "cells": [
  {
   "cell_type": "markdown",
   "metadata": {},
   "source": [
    "# Categoricals and groupby"
   ]
  },
  {
   "cell_type": "markdown",
   "metadata": {},
   "source": [
    "### Advantages of categorical data types\n",
    "What are the main advantages of storing data explicitly as categorical types instead of object types?\n",
    "\n",
    "* Computations are faster\n",
    "* Categorical data require less space in memory\n",
    "* All of the above *\n",
    "* None of the above"
   ]
  },
  {
   "cell_type": "markdown",
   "metadata": {},
   "source": [
    "### Grouping by multiple columns\n",
    "In this exercise, you will return to working with the Titanic dataset from Chapter 1 and use .groupby() to analyze the distribution of passengers who boarded the Titanic.\n",
    "\n",
    "The 'pclass' column identifies which class of ticket was purchased by the passenger and the 'embarked' column indicates at which of the three ports the passenger boarded the Titanic. 'S' stands for Southampton, England, 'C' for Cherbourg, France and 'Q' for Queenstown, Ireland.\n",
    "\n",
    "Your job is to first group by the 'pclass' column and count the number of rows in each class using the 'survived' column. You will then group by the 'embarked' and 'pclass' columns and count the number of passengers.\n",
    "\n",
    "The DataFrame has been pre-loaded as titanic.\n",
    "\n",
    "* Group by the 'pclass' column and save the result as by_class.\n",
    "* Aggregate the 'survived' column of by_class using .count(). Save the result as count_by_class.\n",
    "* Print count_by_class. This has been done for you.\n",
    "* Group titanic by the 'embarked' and 'pclass' columns. Save the result as by_mult.\n",
    "* Aggregate the 'survived' column of by_mult using .count(). Save the result as count_mult.\n",
    "* Print count_mult. This has been done for you, so hit 'Submit Answer' to view the result."
   ]
  },
  {
   "cell_type": "code",
   "execution_count": 2,
   "metadata": {},
   "outputs": [
    {
     "name": "stdout",
     "output_type": "stream",
     "text": [
      "pclass\n",
      "1    323\n",
      "2    277\n",
      "3    709\n",
      "Name: survived, dtype: int64\n",
      "embarked  pclass\n",
      "C         1         141\n",
      "          2          28\n",
      "          3         101\n",
      "Q         1           3\n",
      "          2           7\n",
      "          3         113\n",
      "S         1         177\n",
      "          2         242\n",
      "          3         495\n",
      "Name: survived, dtype: int64\n"
     ]
    },
    {
     "data": {
      "text/plain": [
       "\"Grouping your data by certain columns like this and aggregating them by another column, in this case, 'survived', allows you to carefully examine your data for interesting insights.\""
      ]
     },
     "execution_count": 2,
     "metadata": {},
     "output_type": "execute_result"
    }
   ],
   "source": [
    "import pandas as pd\n",
    "titanic = pd.read_csv('datasets/titanic.csv')\n",
    "\n",
    "# Group titanic by 'pclass'\n",
    "by_class = titanic.groupby('pclass')\n",
    "\n",
    "# Aggregate 'survived' column of by_class by count\n",
    "count_by_class = by_class['survived'].count()\n",
    "\n",
    "# Print count_by_class\n",
    "print(count_by_class)\n",
    "\n",
    "# Group titanic by 'embarked' and 'pclass'\n",
    "by_mult = titanic.groupby(['embarked', 'pclass'])\n",
    "\n",
    "# Aggregate 'survived' column of by_mult by count\n",
    "count_mult = by_mult['survived'].count()\n",
    "\n",
    "# Print count_mult\n",
    "print(count_mult)\n",
    "\n",
    "'''Grouping your data by certain columns like this and aggregating them by another column, in this case, 'survived', allows you to carefully examine your data for interesting insights.'''"
   ]
  },
  {
   "cell_type": "markdown",
   "metadata": {},
   "source": [
    "### Grouping by another series\n",
    "In this exercise, you'll use two data sets from [Gapminder.org](https://www.gapminder.org/) to investigate the average life expectancy (in years) at birth in 2010 for the 6 continental regions. To do this you'll read the life expectancy data per country into one pandas DataFrame and the association between country and region into another.\n",
    "\n",
    "By setting the index of both DataFrames to the country name, you'll then use the region information to group the countries in the life expectancy DataFrame and compute the mean value for 2010.\n",
    "\n",
    "The life expectancy CSV file is available to you in the variable life_fname and the regions filename is available in the variable regions_fname.\n",
    "\n",
    "* Read life_fname into a DataFrame called life and set the index to 'Country'.\n",
    "* Read regions_fname into a DataFrame called regions and set the index to 'Country'.\n",
    "* Group life by the region column of regions and store the result in life_by_region.\n",
    "* Print the mean over the 2010 column of life_by_region."
   ]
  },
  {
   "cell_type": "code",
   "execution_count": 54,
   "metadata": {},
   "outputs": [
    {
     "name": "stdout",
     "output_type": "stream",
     "text": [
      "Year                   1964    1965    1966    1967    1968    1969    1970  \\\n",
      "Country                                                                       \n",
      "Afghanistan          33.639  34.152  34.662  35.170  35.674  36.172  36.663   \n",
      "Albania              65.475  65.863  66.122  66.316  66.500  66.702  66.948   \n",
      "Algeria              47.953  48.389  48.806  49.205  49.592  49.976  50.366   \n",
      "Angola               34.604  35.007  35.410  35.816  36.222  36.627  37.032   \n",
      "Antigua and Barbuda  63.775  64.149  64.511  64.865  65.213  65.558  65.898   \n",
      "\n",
      "Year                   1971    1972    1973   ...      2004    2005    2006  \\\n",
      "Country                                       ...                             \n",
      "Afghanistan          37.143  37.614  38.075   ...    56.583  57.071  57.582   \n",
      "Albania              67.251  67.595  67.966   ...    75.725  75.949  76.124   \n",
      "Algeria              50.767  51.195  51.670   ...    69.682  69.854  70.020   \n",
      "Angola               37.439  37.846  38.247   ...    48.036  48.572  49.041   \n",
      "Antigua and Barbuda  66.232  66.558  66.875   ...    74.355  74.544  74.729   \n",
      "\n",
      "Year                   2007    2008    2009    2010    2011    2012    2013  \n",
      "Country                                                                      \n",
      "Afghanistan          58.102  58.618  59.124  59.612  60.079  60.524  60.947  \n",
      "Albania              76.278  76.433  76.598  76.780  76.979  77.185  77.392  \n",
      "Algeria              70.180  70.332  70.477  70.615  70.747  70.874  71.000  \n",
      "Angola               49.471  49.882  50.286  50.689  51.094  51.498  51.899  \n",
      "Antigua and Barbuda  74.910  75.087  75.263  75.437  75.610  75.783  75.954  \n",
      "\n",
      "[5 rows x 50 columns]\n"
     ]
    }
   ],
   "source": [
    "gapminder = pd.read_csv('datasets/gapminder_tidy.csv')\n",
    "\n",
    "life = gapminder.pivot(index='Country', columns='Year', values='life')\n",
    "\n",
    "print(life.head())\n",
    "# save to csv\n",
    "life.to_csv('./datasets/life_fname')"
   ]
  },
  {
   "cell_type": "code",
   "execution_count": 50,
   "metadata": {},
   "outputs": [
    {
     "name": "stdout",
     "output_type": "stream",
     "text": [
      "                                         region\n",
      "Country                                        \n",
      "Afghanistan                          South Asia\n",
      "Albania                   Europe & Central Asia\n",
      "Algeria              Middle East & North Africa\n",
      "Angola                       Sub-Saharan Africa\n",
      "Antigua and Barbuda                     America\n"
     ]
    }
   ],
   "source": [
    "gapminder = pd.read_csv('datasets/gapminder_tidy.csv')\n",
    "regions = gapminder[['Country', 'region']]\n",
    "regions = regions.set_index(['Country'])\n",
    "# get rid of duplicate Country data\n",
    "regions = regions[~regions.index.duplicated(keep='first')]\n",
    "print(regions.head())\n",
    "type(regions)\n",
    "# save to csv\n",
    "regions.to_csv('./datasets/regions_fname')"
   ]
  },
  {
   "cell_type": "code",
   "execution_count": 53,
   "metadata": {},
   "outputs": [
    {
     "name": "stdout",
     "output_type": "stream",
     "text": [
      "region\n",
      "America                       74.037350\n",
      "East Asia & Pacific           73.405750\n",
      "Europe & Central Asia         75.656387\n",
      "Middle East & North Africa    72.805333\n",
      "South Asia                    68.189750\n",
      "Sub-Saharan Africa            57.575080\n",
      "Name: 2010, dtype: float64\n"
     ]
    },
    {
     "data": {
      "text/plain": [
       "'It looks like the average life expectancy (in years) at birth in 2010 was highest in Europe & Central Asia and lowest in Sub-Saharan Africa.'"
      ]
     },
     "execution_count": 53,
     "metadata": {},
     "output_type": "execute_result"
    }
   ],
   "source": [
    "# Read life_fname into a DataFrame: life\n",
    "life = pd.read_csv('./datasets/life_fname', index_col='Country')\n",
    "\n",
    "# Read regions_fname into a DataFrame: regions\n",
    "regions = pd.read_csv('./datasets/regions_fname', index_col='Country')\n",
    "\n",
    "# Group life by regions['region']: life_by_region\n",
    "life_by_region = life.groupby(regions['region'])\n",
    "\n",
    "# Print the mean over the '2010' column of life_by_region\n",
    "print(life_by_region['2010'].mean())\n",
    "\n",
    "'''It looks like the average life expectancy (in years) at birth in 2010 was highest in Europe & Central Asia and lowest in Sub-Saharan Africa.'''"
   ]
  },
  {
   "cell_type": "code",
   "execution_count": null,
   "metadata": {},
   "outputs": [],
   "source": []
  }
 ],
 "metadata": {
  "kernelspec": {
   "display_name": "Python 3",
   "language": "python",
   "name": "python3"
  },
  "language_info": {
   "codemirror_mode": {
    "name": "ipython",
    "version": 3
   },
   "file_extension": ".py",
   "mimetype": "text/x-python",
   "name": "python",
   "nbconvert_exporter": "python",
   "pygments_lexer": "ipython3",
   "version": "3.6.7"
  }
 },
 "nbformat": 4,
 "nbformat_minor": 2
}
